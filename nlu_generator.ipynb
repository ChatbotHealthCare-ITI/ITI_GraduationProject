{
 "cells": [
  {
   "cell_type": "code",
   "execution_count": 1,
   "id": "ea853c6b",
   "metadata": {},
   "outputs": [],
   "source": [
    "import pandas as pd"
   ]
  },
  {
   "cell_type": "code",
   "execution_count": 2,
   "id": "455cc143",
   "metadata": {},
   "outputs": [],
   "source": [
    "df = pd.read_csv ('dis_symptoms.csv',index_col = 'Unnamed: 0')"
   ]
  },
  {
   "cell_type": "code",
   "execution_count": 3,
   "id": "e8de7031",
   "metadata": {},
   "outputs": [],
   "source": [
    "datacsv = df.groupby('Disease', as_index=False).mean()"
   ]
  },
  {
   "cell_type": "code",
   "execution_count": 4,
   "id": "53fe6252",
   "metadata": {},
   "outputs": [],
   "source": [
    "ll = list(datacsv.columns)\n",
    "ll.remove(\"Disease\")"
   ]
  },
  {
   "cell_type": "code",
   "execution_count": 5,
   "id": "a110cb3f",
   "metadata": {},
   "outputs": [],
   "source": [
    "datacsv2 = datacsv[ll]"
   ]
  },
  {
   "cell_type": "code",
   "execution_count": 6,
   "id": "2cbdbd21",
   "metadata": {},
   "outputs": [],
   "source": [
    "cols = datacsv2.columns\n",
    "bt = datacsv2.apply(lambda x: x > 0)\n",
    "nlu_file = pd.DataFrame(bt.apply(lambda x: list(cols[x.values]), axis=1))"
   ]
  },
  {
   "cell_type": "code",
   "execution_count": 10,
   "id": "91c0069b",
   "metadata": {},
   "outputs": [],
   "source": [
    "with open(\"nlu.yml\", \"wt\", encoding=\"utf-8\") as f:\n",
    "             f.write('version: \"3.1\"\\n')\n",
    "             f.write(\"nlu: \\n\")\n",
    "             for da,d in zip(nlu_file[0],list(datacsv['Disease'])):\n",
    "                f.write(f\"- intent: {d}\\n  examples: | \\n\")\n",
    "                for i in da:\n",
    "                    f.write(f\"    - [{i}](symptom)\\n\") "
   ]
  }
 ],
 "metadata": {
  "kernelspec": {
   "display_name": "Python 3 (ipykernel)",
   "language": "python",
   "name": "python3"
  },
  "language_info": {
   "codemirror_mode": {
    "name": "ipython",
    "version": 3
   },
   "file_extension": ".py",
   "mimetype": "text/x-python",
   "name": "python",
   "nbconvert_exporter": "python",
   "pygments_lexer": "ipython3",
   "version": "3.9.7"
  }
 },
 "nbformat": 4,
 "nbformat_minor": 5
}
